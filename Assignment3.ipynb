{
  "nbformat": 4,
  "nbformat_minor": 0,
  "metadata": {
    "colab": {
      "provenance": [],
      "authorship_tag": "ABX9TyNRUyG/hYT3bFZFhYUBwhyY",
      "include_colab_link": true
    },
    "kernelspec": {
      "name": "python3",
      "display_name": "Python 3"
    },
    "language_info": {
      "name": "python"
    }
  },
  "cells": [
    {
      "cell_type": "markdown",
      "metadata": {
        "id": "view-in-github",
        "colab_type": "text"
      },
      "source": [
        "<a href=\"https://colab.research.google.com/github/Glord002/CSC221_Glord002/blob/main/Assignment3.ipynb\" target=\"_parent\"><img src=\"https://colab.research.google.com/assets/colab-badge.svg\" alt=\"Open In Colab\"/></a>"
      ]
    },
    {
      "cell_type": "code",
      "execution_count": 4,
      "metadata": {
        "colab": {
          "base_uri": "https://localhost:8080/"
        },
        "id": "nZPmeaXg7N-U",
        "outputId": "5b9315ac-bb3d-436f-d3ea-f2fd81330c1a"
      },
      "outputs": [
        {
          "output_type": "stream",
          "name": "stdout",
          "text": [
            "Hi, Hello, How are you?.\n",
            "I am good, how are you? .\n",
            "Hello Eric, would you like to learn some Python today?\n",
            "Lowercase: john doe\n",
            "Uppercase: JOHN DOE\n",
            "Titlecase: John Doe\n",
            "Michael Jordan once said, \"I took that perosnally.\"\n",
            "Michael Jordan , \"I took that personally.\"\n",
            "Original Name with Whitespace:\n",
            "'\\t   John Doe\\n'\n",
            "After lstrip(): 'John Doe\\n'\n",
            "After rstrip(): '\\t   John Doe'\n",
            "After strip(): 'John Doe'\n",
            "8\n",
            "8\n",
            "8\n",
            "8\n",
            "My favorite number is 11.\n"
          ]
        }
      ],
      "source": [
        "\n",
        "\n",
        "message = \"Hi, Hello, How are you?.\"\n",
        "print(message)\n",
        "\n",
        "message = \"I am good, how are you? .\"\n",
        "print(message)\n",
        "\n",
        "\n",
        "person_name = \"Eric\"\n",
        "message = f\"Hello {person_name}, would you like to learn some Python today?\"\n",
        "print(message)\n",
        "\n",
        "\n",
        "person_name = \"John Doe\"\n",
        "print(\"Lowercase:\", person_name.lower())\n",
        "print(\"Uppercase:\", person_name.upper())\n",
        "print(\"Titlecase:\", person_name.title())\n",
        "\n",
        "\n",
        "quote = \"I took that perosnally.\"\n",
        "author = \"Michael Jordan\"\n",
        "print(f'{author} once said, \"{quote}\"')\n",
        "\n",
        "famous_person = \"Michael Jordan\"\n",
        "quote = \"I took that personally.\"\n",
        "message = f'{famous_person} , \"{quote}\"'\n",
        "print(message)\n",
        "\n",
        "\n",
        "person_name = \"\\t   John Doe\\n\"\n",
        "print(\"Original Name with Whitespace:\")\n",
        "print(repr(person_name))\n",
        "print(\"After lstrip():\", repr(person_name.lstrip()))\n",
        "print(\"After rstrip():\", repr(person_name.rstrip()))\n",
        "print(\"After strip():\", repr(person_name.strip()))\n",
        "\n",
        "\n",
        "print(4 + 4)\n",
        "print(12 - 4)\n",
        "print(8 * 1)\n",
        "print(32 // 4)\n",
        "\n",
        "favorite_number = 11\n",
        "message = f\"My favorite number is {favorite_number}.\"\n",
        "print(message)\n",
        "# number_eight_comments.py\n",
        "# Written by [Your Name]\n",
        "# Date: [Current Date]\n",
        "# This program demonstrates basic arithmetic operations that result in the number 8.\n",
        "# Addition operation resulting in 8\n",
        "# Subtraction operation resulting in 8\n",
        "# Multiplication operation resulting in 8\n",
        "# Integer division operation resulting in 8\n"
      ]
    }
  ]
}