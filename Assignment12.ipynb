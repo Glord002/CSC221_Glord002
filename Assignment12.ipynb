{
  "nbformat": 4,
  "nbformat_minor": 0,
  "metadata": {
    "colab": {
      "provenance": [],
      "authorship_tag": "ABX9TyOecNWfiN2aWZi9XMzncoyE",
      "include_colab_link": true
    },
    "kernelspec": {
      "name": "python3",
      "display_name": "Python 3"
    },
    "language_info": {
      "name": "python"
    }
  },
  "cells": [
    {
      "cell_type": "markdown",
      "metadata": {
        "id": "view-in-github",
        "colab_type": "text"
      },
      "source": [
        "<a href=\"https://colab.research.google.com/github/Glord002/CSC221_Glord002/blob/main/Assignment12.ipynb\" target=\"_parent\"><img src=\"https://colab.research.google.com/assets/colab-badge.svg\" alt=\"Open In Colab\"/></a>"
      ]
    },
    {
      "cell_type": "code",
      "execution_count": 2,
      "metadata": {
        "colab": {
          "base_uri": "https://localhost:8080/"
        },
        "id": "6NZHNVK-eh2b",
        "outputId": "4a0bb84b-4653-4e3a-a017-03d14a6ab2e5"
      },
      "outputs": [
        {
          "output_type": "stream",
          "name": "stdout",
          "text": [
            "Wallet Contents:\n",
            "$1.00\n",
            "$1.00\n",
            "$5.00\n",
            "$10.00\n",
            "$10.00\n",
            "$0.01\n",
            "$0.05\n",
            "$0.10\n",
            "$0.25\n",
            "$0.25\n",
            "\n",
            "Total Money: 27.660000000000004\n"
          ]
        }
      ],
      "source": [
        "class Money:\n",
        "    def __init__(self, value):\n",
        "        self.value = value\n",
        "\n",
        "    def __repr__(self):\n",
        "        return f\"${self.value:.2f}\"\n",
        "\n",
        "\n",
        "class Bills(Money):\n",
        "    pass\n",
        "\n",
        "\n",
        "class Coins(Money):\n",
        "    pass\n",
        "\n",
        "\n",
        "class One(Bills):\n",
        "    def __init__(self):\n",
        "        super().__init__(1)\n",
        "\n",
        "\n",
        "class Five(Bills):\n",
        "    def __init__(self):\n",
        "        super().__init__(5)\n",
        "\n",
        "\n",
        "class Ten(Bills):\n",
        "    def __init__(self):\n",
        "        super().__init__(10)\n",
        "\n",
        "\n",
        "class Twenty(Bills):\n",
        "    def __init__(self):\n",
        "        super().__init__(20)\n",
        "\n",
        "\n",
        "class Penny(Coins):\n",
        "    def __init__(self):\n",
        "        super().__init__(0.01)\n",
        "\n",
        "\n",
        "class Nickel(Coins):\n",
        "    def __init__(self):\n",
        "        super().__init__(0.05)\n",
        "\n",
        "\n",
        "class Dime(Coins):\n",
        "    def __init__(self):\n",
        "        super().__init__(0.10)\n",
        "\n",
        "\n",
        "class Quarter(Coins):\n",
        "    def __init__(self):\n",
        "        super().__init__(0.25)\n",
        "\n",
        "\n",
        "wallet = [\n",
        "    One(),\n",
        "    One(),\n",
        "    Five(),\n",
        "    Ten(),\n",
        "    Ten(),\n",
        "    Penny(),\n",
        "    Nickel(),\n",
        "    Dime(),\n",
        "    Quarter(),\n",
        "    Quarter()\n",
        "]\n",
        "\n",
        "total = sum(money.value for money in wallet)\n",
        "\n",
        "print(\"Wallet Contents:\")\n",
        "for money in wallet:\n",
        "    print(money)\n",
        "\n",
        "print(\"\\nTotal Money:\", total)\n"
      ]
    }
  ]
}