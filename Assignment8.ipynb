{
  "nbformat": 4,
  "nbformat_minor": 0,
  "metadata": {
    "colab": {
      "provenance": [],
      "authorship_tag": "ABX9TyNvZo+qca4uqe3YSeQb2rcc",
      "include_colab_link": true
    },
    "kernelspec": {
      "name": "python3",
      "display_name": "Python 3"
    },
    "language_info": {
      "name": "python"
    }
  },
  "cells": [
    {
      "cell_type": "markdown",
      "metadata": {
        "id": "view-in-github",
        "colab_type": "text"
      },
      "source": [
        "<a href=\"https://colab.research.google.com/github/Glord002/CSC221_Glord002/blob/main/Assignment8.ipynb\" target=\"_parent\"><img src=\"https://colab.research.google.com/assets/colab-badge.svg\" alt=\"Open In Colab\"/></a>"
      ]
    },
    {
      "cell_type": "code",
      "execution_count": 4,
      "metadata": {
        "colab": {
          "base_uri": "https://localhost:8080/"
        },
        "id": "ZrjOwqS8zYMo",
        "outputId": "a82c5505-2ab9-4cd3-e47d-91809b2a8430"
      },
      "outputs": [
        {
          "output_type": "stream",
          "name": "stdout",
          "text": [
            "One of my favorite books is Picture of Dorian Grey\n",
            "A shirt of size Medium will be printed with the message: Hello, World!\n",
            "A shirt of size Large will be printed with the message: Keep calm and code on!\n",
            "A Large shirt will be printed with the message: I love Python\n",
            "A Medium shirt will be printed with the message: I love Python\n",
            "A Small shirt will be printed with the message: Python is awesome!\n",
            "(47, 252, [2, 3, 42])\n",
            "(18, 150, [3, 5, 10])\n",
            "(18, 192, [4, 6, 8])\n",
            "(52, 1050, [5, 5, 42])\n",
            "(45, 84, [1, 2, 42])\n",
            "(6, 6, [1, 2, 3])\n",
            "(15, 125, [5, 5, 5])\n",
            "(6, 6, [1, 2, 3])\n",
            "(9, 15, [1, 3, 5])\n",
            "(60, 6000, [10, 20, 30])\n"
          ]
        }
      ],
      "source": [
        "#8.2 TIY\n",
        "def favorite_book(title):\n",
        "    print(\"One of my favorite books is\", title)\n",
        "\n",
        "favorite_book(\"Picture of Dorian Grey\")\n",
        "\n",
        "#8.3 TIY\n",
        "def make_shirt(size, message):\n",
        "    print(\"A shirt of size\", size, \"will be printed with the message:\", message)\n",
        "\n",
        "make_shirt(\"Medium\", \"Hello, World!\")\n",
        "\n",
        "make_shirt(size=\"Large\", message=\"Keep calm and code on!\")\n",
        "\n",
        "#8.4 TIY\n",
        "def make_shirt(size=\"Large\", message=\"I love Python\"):\n",
        "    print(\"A\", size, \"shirt will be printed with the message:\", message)\n",
        "\n",
        "make_shirt()\n",
        "\n",
        "make_shirt(size=\"Medium\")\n",
        "\n",
        "make_shirt(size=\"Small\", message=\"Python is awesome!\")\n",
        "\n",
        "def func8(a, b, c=42):\n",
        "    if c == 42:\n",
        "        c = 42\n",
        "\n",
        "    numbers = [a, b, c]\n",
        "    numbers.sort()\n",
        "\n",
        "    total_sum = sum(numbers)\n",
        "    product = 1\n",
        "    for num in numbers:\n",
        "        product *= num\n",
        "\n",
        "    return total_sum, product, numbers\n",
        "\n",
        "print(func8(2, 3))\n",
        "print(func8(5, 10, 3))\n",
        "print(func8(8, 4, 6))\n",
        "print(func8(5, 5))\n",
        "\n",
        "def func8(a, b, c=42):\n",
        "    sum_result = a + b + c\n",
        "    product_result = a * b * c\n",
        "    sorted_list = sorted([a, b, c])\n",
        "    return sum_result, product_result, sorted_list\n",
        "print(func8(1, 2))\n",
        "print(func8(1, 2, 3))\n",
        "print(func8(5, 5, 5))\n",
        "print(func8(2, 1, 3))\n",
        "print(func8(5, 3, 1))\n",
        "print(func8(10, 20, 30))\n"
      ]
    }
  ]
}