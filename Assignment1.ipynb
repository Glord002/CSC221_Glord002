{
  "nbformat": 4,
  "nbformat_minor": 0,
  "metadata": {
    "colab": {
      "provenance": [],
      "authorship_tag": "ABX9TyPsc4TrVcX8O1FKZjWL/zPm",
      "include_colab_link": true
    },
    "kernelspec": {
      "name": "python3",
      "display_name": "Python 3"
    },
    "language_info": {
      "name": "python"
    }
  },
  "cells": [
    {
      "cell_type": "markdown",
      "metadata": {
        "id": "view-in-github",
        "colab_type": "text"
      },
      "source": [
        "<a href=\"https://colab.research.google.com/github/Glord002/CSC221_Glord002/blob/main/Assignment1.ipynb\" target=\"_parent\"><img src=\"https://colab.research.google.com/assets/colab-badge.svg\" alt=\"Open In Colab\"/></a>"
      ]
    },
    {
      "cell_type": "code",
      "source": [
        "Image draw, Image Font\n",
        "\n",
        "# Create a blank image with white background\n",
        "width, height = 400, 200\n",
        "image = Image.new(\"RGB\", (width, height), \"white\")\n",
        "\n",
        "# Get a drawing context\n",
        "draw = ImageDraw.Draw(image)\n",
        "\n",
        "# Draw a rectangle\n",
        "draw.rectangle([50, 50, 150, 150], fill=\"lightblue\", outline=\"blue\")\n",
        "\n",
        "# Draw an \"AI\" text\n",
        "font = ImageFont.truetype(\"arial.ttf\", 36)\n",
        "text = \"AI\"\n",
        "text_width, text_height = draw.textsize(text, font)\n",
        "text_position = ((width - text_width) // 2, (height - text_height) // 2)\n",
        "draw.text(text_position, text, fill=\"black\", font=font)\n",
        "\n",
        "# Save the image\n",
        "image.save(\"ai_image.png\")\n",
        "\n",
        "# Display the image\n",
        "image.show()"
      ],
      "metadata": {
        "id": "kozWTRIaAuz1"
      },
      "execution_count": null,
      "outputs": []
    }
  ]
}