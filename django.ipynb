{
  "nbformat": 4,
  "nbformat_minor": 0,
  "metadata": {
    "colab": {
      "provenance": [],
      "authorship_tag": "ABX9TyNhHKW7P/yA7KktxXtm4u4u",
      "include_colab_link": true
    },
    "kernelspec": {
      "name": "python3",
      "display_name": "Python 3"
    },
    "language_info": {
      "name": "python"
    }
  },
  "cells": [
    {
      "cell_type": "markdown",
      "metadata": {
        "id": "view-in-github",
        "colab_type": "text"
      },
      "source": [
        "<a href=\"https://colab.research.google.com/github/Glord002/CSC221_Glord002/blob/main/django.ipynb\" target=\"_parent\"><img src=\"https://colab.research.google.com/assets/colab-badge.svg\" alt=\"Open In Colab\"/></a>"
      ]
    },
    {
      "cell_type": "code",
      "execution_count": 4,
      "metadata": {
        "id": "6s3umCxTZGIA",
        "outputId": "8ba5a2c9-7bdf-4454-d13f-30bae5a22fb3",
        "colab": {
          "base_uri": "https://localhost:8080/",
          "height": 105
        }
      },
      "outputs": [
        {
          "output_type": "error",
          "ename": "SyntaxError",
          "evalue": "invalid syntax (<ipython-input-4-bcc265b07eda>, line 29)",
          "traceback": [
            "\u001b[0;36m  File \u001b[0;32m\"<ipython-input-4-bcc265b07eda>\"\u001b[0;36m, line \u001b[0;32m29\u001b[0m\n\u001b[0;31m    <!-- meal_planner_project/meal_plans/templates/meal_plans/home.html -->\u001b[0m\n\u001b[0m    ^\u001b[0m\n\u001b[0;31mSyntaxError\u001b[0m\u001b[0;31m:\u001b[0m invalid syntax\n"
          ]
        }
      ],
      "source": [
        "!pip install django\n",
        "\n",
        "import os\n",
        "from django.db import models\n",
        "from django.contrib import admin\n",
        "from django.urls import path\n",
        "from django.shortcuts import render\n",
        "\n",
        "!django-admin startproject meal_planner_project\n",
        "os.chdir(\"meal_planner_project\")\n",
        "\n",
        "!python manage.py startapp meal_plans\n",
        "\n",
        "class Meal(models.Model):\n",
        "    name = models.CharField(max_length=100)\n",
        "    date = models.DateField()\n",
        "\n",
        "    def __str__(self):\n",
        "        return self.name\n",
        "\n",
        "class MealAdmin(admin.ModelAdmin):\n",
        "    list_display = ('name', 'date')\n",
        "\n",
        "admin.site.register(Meal, MealAdmin)\n",
        "\n",
        "def home(request):\n",
        "    return render(request, 'meal_plans/home.html')\n",
        "\n",
        "home_template = \"\"\"\n",
        "<!DOCTYPE html>\n",
        "<html lang=\"en\">\n",
        "<head>\n",
        "    <meta charset=\"UTF-8\">\n",
        "    <meta name=\"viewport\" content=\"width=device-width, initial-scale=1.0\">\n",
        "    <title>Meal Planner</title>\n",
        "</head>\n",
        "<body>\n",
        "    <h1>Welcome to the Meal Planner!</h1>\n",
        "</body>\n",
        "</html>\n",
        "\"\"\"\n",
        "\n",
        "with open('meal_plans/templates/meal_plans/home.html', 'w') as f:\n",
        "    f.write(home_template)\n",
        "\n",
        "urlpatterns = [\n",
        "    path('', home, name='home'),\n",
        "]\n",
        "# Run the server this won't work in Google Colab.\n"
      ]
    }
  ]
}